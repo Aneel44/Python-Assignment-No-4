{
 "cells": [
  {
   "cell_type": "markdown",
   "metadata": {},
   "source": [
    "# python calculator program"
   ]
  },
  {
   "cell_type": "code",
   "execution_count": 2,
   "metadata": {},
   "outputs": [
    {
     "name": "stdout",
     "output_type": "stream",
     "text": [
      "Please select options below.\n",
      "1. Add\n",
      "2. Subtract\n",
      "3. Multiply\n",
      "4. Divide\n",
      "5. Power\n",
      "\n",
      "enter your choice operation.2\n",
      "Enter first number: 23\n",
      "Enter second number: 21\n",
      "23 - 21 = 2\n"
     ]
    }
   ],
   "source": [
    "# Addition\n",
    "def add(num1, num2):\n",
    "    return num1 + num2\n",
    "\n",
    "# Substraction\n",
    "\n",
    "def sub(num1, num2):\n",
    "    return num1 - num2\n",
    "\n",
    "#Multiplication\n",
    "def mul(num1, num2):\n",
    "    return num1 * num2\n",
    "\n",
    "# Division\n",
    "\n",
    "def div(num1, num2):\n",
    "    return num1 / num2\n",
    "\n",
    "# Power\n",
    "def power(num1, num2):\n",
    "    return num1 ** num2\n",
    "\n",
    "print(\"Please select options below.\\n\"\\\n",
    "        \"1. Add\\n\"\\\n",
    "        \"2. Subtract\\n\"\\\n",
    "        \"3. Multiply\\n\"\\\n",
    "        \"4. Divide\\n\"\\\n",
    "        \"5. Power\\n\")\n",
    "\n",
    "# Input from user\n",
    "choice = int(input(\"enter your choice operation.\"))\n",
    "\n",
    "num_1 = int(input(\"Enter first number: \"))\n",
    "num_2 = int(input(\"Enter second number: \"))\n",
    "\n",
    "if choice == 1:\n",
    "    print(num_1, \"+\", num_2, \"=\", add(num_1, num_2))\n",
    "\n",
    "elif choice == 2:\n",
    "    print(num_1, \"-\", num_2, \"=\", sub(num_1, num_2))\n",
    "\n",
    "\n",
    "elif choice == 3:\n",
    "    print(num_1, \"*\", num_2, \"=\", mul(num_1, num_2))\n",
    "\n",
    "elif choice == 4:\n",
    "    print(num_1, \"/\", num_2, \"=\", div(num_1, num_2))\n",
    "\n",
    "elif choice == 5:\n",
    "    print(num_1, \"**\", num_2, \"=\", power(num_1, num_2))\n",
    "\n",
    "else:\n",
    "    print(\"Invalid choice\")\n"
   ]
  },
  {
   "cell_type": "code",
   "execution_count": null,
   "metadata": {},
   "outputs": [],
   "source": []
  }
 ],
 "metadata": {
  "kernelspec": {
   "display_name": "Python 3",
   "language": "python",
   "name": "python3"
  },
  "language_info": {
   "codemirror_mode": {
    "name": "ipython",
    "version": 3
   },
   "file_extension": ".py",
   "mimetype": "text/x-python",
   "name": "python",
   "nbconvert_exporter": "python",
   "pygments_lexer": "ipython3",
   "version": "3.8.3"
  }
 },
 "nbformat": 4,
 "nbformat_minor": 4
}
