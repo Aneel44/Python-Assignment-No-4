{
 "cells": [
  {
   "cell_type": "markdown",
   "metadata": {},
   "source": [
    "# Write a program to add a key to dict."
   ]
  },
  {
   "cell_type": "code",
   "execution_count": 1,
   "metadata": {},
   "outputs": [
    {
     "name": "stdout",
     "output_type": "stream",
     "text": [
      "{1: 50, 2: 80, 3: 50}\n",
      "new dictionary: {1: 50, 2: 80, 3: 50, 4: 60}\n",
      "{1: 10, 2: 20}\n",
      "{1: 10, 2: 20, 3: 30}\n"
     ]
    }
   ],
   "source": [
    "\n",
    "\n",
    "dict = {1: 50, 2: 80, 3: 50}\n",
    "print(dict)\n",
    "\n",
    "dict.update({4:60})\n",
    "print(\"new dictionary:\",dict)\n",
    "\n",
    "\n",
    "dict_1 = {1: 10, 2: 20}\n",
    "print(dict_1)\n",
    "\n",
    "dict_1[3] = 30\n",
    "\n",
    "print(dict_1)\n"
   ]
  },
  {
   "cell_type": "code",
   "execution_count": null,
   "metadata": {},
   "outputs": [],
   "source": []
  }
 ],
 "metadata": {
  "kernelspec": {
   "display_name": "Python 3",
   "language": "python",
   "name": "python3"
  },
  "language_info": {
   "codemirror_mode": {
    "name": "ipython",
    "version": 3
   },
   "file_extension": ".py",
   "mimetype": "text/x-python",
   "name": "python",
   "nbconvert_exporter": "python",
   "pygments_lexer": "ipython3",
   "version": "3.8.3"
  }
 },
 "nbformat": 4,
 "nbformat_minor": 4
}
