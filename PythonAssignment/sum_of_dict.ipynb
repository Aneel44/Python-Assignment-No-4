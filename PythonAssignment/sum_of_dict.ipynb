{
 "cells": [
  {
   "cell_type": "markdown",
   "metadata": {},
   "source": [
    "# program to sum all the items in Dict."
   ]
  },
  {
   "cell_type": "code",
   "execution_count": 1,
   "metadata": {},
   "outputs": [
    {
     "name": "stdout",
     "output_type": "stream",
     "text": [
      "sum of dict: 204\n"
     ]
    }
   ],
   "source": [
    "def total_sum(mydict):\n",
    "\n",
    "    total_sum = 0\n",
    "\n",
    "    for i in mydict.values():\n",
    "        total_sum = total_sum + i\n",
    "\n",
    "    return total_sum\n",
    "\n",
    "mydict = {0: 34, 1: 50, 2: 90, 3: 30}\n",
    "print(\"sum of dict:\", total_sum(mydict))\n"
   ]
  },
  {
   "cell_type": "code",
   "execution_count": null,
   "metadata": {},
   "outputs": [],
   "source": []
  }
 ],
 "metadata": {
  "kernelspec": {
   "display_name": "Python 3",
   "language": "python",
   "name": "python3"
  },
  "language_info": {
   "codemirror_mode": {
    "name": "ipython",
    "version": 3
   },
   "file_extension": ".py",
   "mimetype": "text/x-python",
   "name": "python",
   "nbconvert_exporter": "python",
   "pygments_lexer": "ipython3",
   "version": "3.8.3"
  }
 },
 "nbformat": 4,
 "nbformat_minor": 4
}
