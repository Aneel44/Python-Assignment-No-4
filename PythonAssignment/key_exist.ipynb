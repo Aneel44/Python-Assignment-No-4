{
 "cells": [
  {
   "cell_type": "markdown",
   "metadata": {},
   "source": [
    "# Python program to check given key already exists in a    dictionary."
   ]
  },
  {
   "cell_type": "code",
   "execution_count": 2,
   "metadata": {},
   "outputs": [
    {
     "name": "stdout",
     "output_type": "stream",
     "text": [
      "key is present in dictionary:\n",
      "key is present in dictionary:\n",
      "key is present in dictionary:\n",
      "key is present in dictionary:\n",
      "key is present in dictionary:\n",
      "Key is not in dictionary:\n",
      "key is present in dictionary:\n",
      "key is present in dictionary:\n",
      "key is present in dictionary:\n",
      "key is present in dictionary:\n",
      "key is present in dictionary:\n",
      "Key is not in dictionary:\n"
     ]
    }
   ],
   "source": [
    "lst = {1: 20, 2:30, 3:40, 4: 30, 5: 60}\n",
    "\n",
    "def key_is_prsnt(i):\n",
    "\n",
    "    for i in lst:\n",
    "        print(\"key is present in dictionary:\")\n",
    "\n",
    "    else:\n",
    "        print(\"Key is not in dictionary:\")\n",
    "\n",
    "key_is_prsnt(4)\n",
    "key_is_prsnt(8)\n",
    "\n"
   ]
  },
  {
   "cell_type": "code",
   "execution_count": null,
   "metadata": {},
   "outputs": [],
   "source": []
  }
 ],
 "metadata": {
  "kernelspec": {
   "display_name": "Python 3",
   "language": "python",
   "name": "python3"
  },
  "language_info": {
   "codemirror_mode": {
    "name": "ipython",
    "version": 3
   },
   "file_extension": ".py",
   "mimetype": "text/x-python",
   "name": "python",
   "nbconvert_exporter": "python",
   "pygments_lexer": "ipython3",
   "version": "3.8.3"
  }
 },
 "nbformat": 4,
 "nbformat_minor": 4
}
